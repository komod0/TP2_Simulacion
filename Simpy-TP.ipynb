{
 "cells": [
  {
   "cell_type": "code",
   "execution_count": 1,
   "metadata": {},
   "outputs": [],
   "source": [
    "import simpy\n",
    "import numpy as np\n",
    "import matplotlib.pyplot as plt\n",
    "import seaborn as sns\n",
    "import scipy as sc\n",
    "from collections import deque\n",
    "plt.rcParams[\"figure.figsize\"] = (10,10)"
   ]
  },
  {
   "cell_type": "markdown",
   "metadata": {},
   "source": [
    "### Se está diseñando un web service, el cual cada vez que es invocado consulta a una base de datos.\n",
    "### Se estima que el tiempo que transcurre entre cada llamada al servicio se puede modelar según una distribución exponencial con media 𝜇 = 4 𝑠𝑒𝑔𝑢𝑛𝑑𝑜𝑠\n",
    "### Se debe decidir la arquitectura de base de datos a utilizar entre las dos siguientes:\n",
    "### 1) Utilizar 2 bases de datos distribuidas. Con probabilidad 𝑝 = 0.6 las solicitudes son atendidas por la base 1 y con probabilidad 𝑞 = 1 − 𝑝 son atendidos por la base de datos 2. El tiempo que demora cada base de datos en atender una solicitud sigue una distribución exponencial con medias, 𝜇1 = 0,7 𝑠𝑒𝑔 y 𝜇2 = 1 𝑠𝑒𝑔 respectivamente.\n",
    "### 2) Utilizar 1 base de datos central. En este caso la demora en resolver una solicitud sigue una distribución exponencial con 𝜇 = 0,8 𝑠𝑒𝑔𝑢𝑛𝑑𝑜𝑠 \n",
    "### Simular para cada opción 100000 solicitudes procesadas, determinando:\n",
    "####  - El tiempo medio de espera entre que la solicitud llega y puede ser procesada (suponer que ninguna conexión cae por timeout).\n",
    "####  - La fracción de las solicitudes que no esperaron para ser procesadas.\n",
    "####  - La opción 1 es más costosa que la segunda opción y la empresa sólo acepta realizar la inversión si el tiempo medio que demora en resolver cada solicitud (tiempo en fila + tiempo de procesamiento) es como mínimo 50% menor que la opción 2. ¿Qué solución le recomienda?"
   ]
  },
  {
   "cell_type": "code",
   "execution_count": 13,
   "metadata": {},
   "outputs": [
    {
     "name": "stdout",
     "output_type": "stream",
     "text": [
      "Transcurrieron 481384.18188283884 segundos en 100000 iteraciones\n",
      "Se uso 60061 veces la bdd1 y 39939 veces la bdd2\n"
     ]
    }
   ],
   "source": [
    "class web_service_1:\n",
    "    def __init__(self, env, media_call, bdd_1, bdd_2, proba_b1, media_1, media_2, sol_max):\n",
    "        self.env = env\n",
    "        self.media_call = media_call\n",
    "        self.bdd_1 = bdd_1\n",
    "        self.bdd_2 = bdd_2\n",
    "        self.proba_b1 = proba_b1\n",
    "        self.media_1 = media_1\n",
    "        self.media_2 = media_2\n",
    "        self.sol_max = sol_max\n",
    "        self.action = env.process(self.run(env))\n",
    "        self.usos_bdd = [0,0]\n",
    "        self.cant_sol = 0\n",
    "    \n",
    "    def run(self, env):\n",
    "        while(self.cant_sol < self.sol_max):\n",
    "            yield self.env.timeout(sc.stats.expon.rvs(loc=0,scale=self.media_call))\n",
    "            self.cant_sol += 1\n",
    "            if (np.random.rand() < self.proba_b1):\n",
    "                self.usos_bdd[0] += 1\n",
    "                with self.bdd_1.request() as bdd1:\n",
    "                    yield bdd1\n",
    "                    yield self.env.timeout(sc.stats.expon.rvs(loc=0, scale=self.media_1))\n",
    "            else:\n",
    "                self.usos_bdd[1] += 1\n",
    "                with self.bdd_2.request() as bdd2:\n",
    "                    yield bdd2\n",
    "                    yield self.env.timeout(sc.stats.expon.rvs(loc=0, scale=self.media_2))\n",
    "                    \n",
    "        print(\"Transcurrieron\", self.env.now, \"segundos en\", self.sol_max, \"iteraciones\")         \n",
    "        print(\"Se uso\", self.usos_bdd[0], \"veces la bdd1 y\",  self.usos_bdd[1], \"veces la bdd2\")         \n",
    "\n",
    "env = simpy.Environment()\n",
    "base1 = simpy.Resource(env, capacity=1)\n",
    "base2 = simpy.Resource(env, capacity=1)\n",
    "ws1 = web_service_1(env, 4, base1, base2, 0.6, 0.7, 1, 100000)\n",
    "env.run()"
   ]
  },
  {
   "cell_type": "code",
   "execution_count": 14,
   "metadata": {},
   "outputs": [
    {
     "name": "stdout",
     "output_type": "stream",
     "text": [
      "Transcurrieron 478723.4394779483 segundos en 100000 iteraciones\n"
     ]
    }
   ],
   "source": [
    "class web_service_2:\n",
    "    def __init__(self, env, media_call, bdd, media_bdd, sol_max):\n",
    "        self.env = env\n",
    "        self.media_call = media_call\n",
    "        self.bdd = bdd\n",
    "        self.media_bdd = media_bdd\n",
    "        self.sol_max = sol_max\n",
    "        self.action = env.process(self.run(env))\n",
    "        self.cant_sol = 0\n",
    "    \n",
    "    def run(self, env):\n",
    "        while(self.cant_sol < self.sol_max):\n",
    "            yield self.env.timeout(sc.stats.expon.rvs(loc=0,scale=self.media_call))\n",
    "            self.cant_sol += 1\n",
    "            with self.bdd.request() as bdd:\n",
    "                yield bdd\n",
    "                yield self.env.timeout(sc.stats.expon.rvs(loc=0, scale=self.media_bdd))\n",
    "                    \n",
    "        print(\"Transcurrieron\", self.env.now, \"segundos en\", self.sol_max, \"iteraciones\")\n",
    "\n",
    "\n",
    "env = simpy.Environment()\n",
    "base = simpy.Resource(env, capacity=1)\n",
    "ws2 = web_service_2(env, 4, base, 0.8, 100000)\n",
    "env.run()"
   ]
  },
  {
   "cell_type": "code",
   "execution_count": null,
   "metadata": {},
   "outputs": [],
   "source": []
  }
 ],
 "metadata": {
  "kernelspec": {
   "display_name": "Python 3",
   "language": "python",
   "name": "python3"
  },
  "language_info": {
   "codemirror_mode": {
    "name": "ipython",
    "version": 3
   },
   "file_extension": ".py",
   "mimetype": "text/x-python",
   "name": "python",
   "nbconvert_exporter": "python",
   "pygments_lexer": "ipython3",
   "version": "3.6.8"
  }
 },
 "nbformat": 4,
 "nbformat_minor": 4
}
